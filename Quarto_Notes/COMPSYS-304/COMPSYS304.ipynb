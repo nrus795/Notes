{
 "cells": [
  {
   "cell_type": "raw",
   "metadata": {
    "vscode": {
     "languageId": "raw"
    }
   },
   "source": [
    "---\n",
    "title: \"COMPSYS 304 - Computer Architecture\"\n",
    "format:\n",
    "    # latex:\n",
    "    #     documentclass: report\n",
    "    #     classoption: [twocolumn, landscape]\n",
    "    #     lof: true\n",
    "    #     lot: true\n",
    "    #     toc: true\n",
    "    #     latex-tinytex: false\n",
    "    pdf:\n",
    "        latex-engine: latexmk\n",
    "        pdf-engine-opts: \n",
    "        - \"-lualatex\"\n",
    "        - \"-shell-escape\"\n",
    "        - \"-interaction=nonstopmode\"\n",
    "        - \"-file-line-error\"\n",
    "        - \"-synctex=1\"\n",
    "        - \"-outdir=build\"\n",
    "        - \"-aux-dir=aux\"\n",
    "\n",
    "---"
   ]
  },
  {
   "cell_type": "code",
   "execution_count": null,
   "metadata": {},
   "outputs": [],
   "source": []
  }
 ],
 "metadata": {
  "language_info": {
   "name": "python"
  }
 },
 "nbformat": 4,
 "nbformat_minor": 2
}
